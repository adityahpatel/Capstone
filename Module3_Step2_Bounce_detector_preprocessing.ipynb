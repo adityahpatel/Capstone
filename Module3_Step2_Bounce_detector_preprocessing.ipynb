{
 "cells": [
  {
   "cell_type": "code",
   "execution_count": 1,
   "id": "0e353eb0",
   "metadata": {},
   "outputs": [],
   "source": [
    "\"\"\"\n",
    "This code takes the 8462 individual text files outputted by Model # 1\n",
    "i.e. object detection YOLO model and pulls the coordinates and writes them\n",
    "in a file called \"model2_inputdata.csv\". The output of this file is a csv\n",
    "file called model2_inputdata.csv. This csv file is later used in bouncedetection_tensorflow.py\n",
    "file.\n",
    "\"\"\"\n",
    "\n",
    "import pandas as pd, numpy as np\n",
    "import re, os, csv\n",
    "\n",
    "# open the file in the write mode\n",
    "from pandas import DataFrame\n",
    "from pandas.io.parsers import TextFileReader\n",
    "\n",
    "f = open('model2_inputdata.csv', 'w')\n",
    "writer = csv.writer(f)\n",
    "\n",
    "# os.listdir does NOT give a sorted list even if we do sorted(os.listdir) therefore doing below:\n",
    "dir = [\"image\" + str(n) + \".txt\" for n in range(1, 8463)]  # we have images going from image1.txt to image8462.txt\n",
    "\n",
    "# write a row to the csv file\n",
    "for file_name in dir:\n",
    "    file_path = \"8462_labeled_frames/\" + file_name\n",
    "    if os.path.getsize(file_path) > 0:  # some files have balls so checking if empty\n",
    "        with open(file_path, 'r') as file:\n",
    "            for line in file.readlines():\n",
    "                words = line.split()[1:]  # to remove the 1st 0 that shows up in all rows\n",
    "                words.insert(0, file_name)\n",
    "                words = np.array(words).reshape(1, len(words))\n",
    "                writer.writerows(words)\n",
    "\n",
    "\n"
   ]
  },
  {
   "cell_type": "code",
   "execution_count": null,
   "id": "ee1048c4",
   "metadata": {},
   "outputs": [],
   "source": []
  }
 ],
 "metadata": {
  "kernelspec": {
   "display_name": "Python 3 (ipykernel)",
   "language": "python",
   "name": "python3"
  },
  "language_info": {
   "codemirror_mode": {
    "name": "ipython",
    "version": 3
   },
   "file_extension": ".py",
   "mimetype": "text/x-python",
   "name": "python",
   "nbconvert_exporter": "python",
   "pygments_lexer": "ipython3",
   "version": "3.9.7"
  },
  "toc": {
   "base_numbering": 1,
   "nav_menu": {},
   "number_sections": true,
   "sideBar": true,
   "skip_h1_title": false,
   "title_cell": "Table of Contents",
   "title_sidebar": "Contents",
   "toc_cell": false,
   "toc_position": {},
   "toc_section_display": true,
   "toc_window_display": false
  },
  "varInspector": {
   "cols": {
    "lenName": 16,
    "lenType": 16,
    "lenVar": 40
   },
   "kernels_config": {
    "python": {
     "delete_cmd_postfix": "",
     "delete_cmd_prefix": "del ",
     "library": "var_list.py",
     "varRefreshCmd": "print(var_dic_list())"
    },
    "r": {
     "delete_cmd_postfix": ") ",
     "delete_cmd_prefix": "rm(",
     "library": "var_list.r",
     "varRefreshCmd": "cat(var_dic_list()) "
    }
   },
   "types_to_exclude": [
    "module",
    "function",
    "builtin_function_or_method",
    "instance",
    "_Feature"
   ],
   "window_display": false
  }
 },
 "nbformat": 4,
 "nbformat_minor": 5
}
