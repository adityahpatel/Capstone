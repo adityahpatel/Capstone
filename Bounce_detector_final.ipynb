{
 "cells": [
  {
   "cell_type": "code",
   "execution_count": 1,
   "id": "44159c4f",
   "metadata": {},
   "outputs": [],
   "source": [
    "import pandas as pd\n",
    "import sklearn\n",
    "import re, numpy as np, tensorflow as tf\n",
    "from keras.layers import Bidirectional\n",
    "from tensorflow.keras.models import Sequential\n",
    "from tensorflow.keras.layers import LSTM, SimpleRNN, Bidirectional\n",
    "from tensorflow.keras.layers import Dense, Dropout\n",
    "import matplotlib.pyplot as plt\n",
    "from sklearn.preprocessing import StandardScaler\n",
    "import seaborn as sns"
   ]
  },
  {
   "cell_type": "code",
   "execution_count": 2,
   "id": "521e72b0",
   "metadata": {},
   "outputs": [],
   "source": [
    "# ground truth is 95 bounces.\n",
    "\n",
    "from numpy.random import seed\n",
    "seed(10)\n",
    "tf.random.set_seed(10)\n",
    "\n",
    "df = pd.read_csv(\"model2_inputdata.csv\", header=None)\n",
    "df.columns = ['file_name', 'top_left_x', 'top_left_y', 'width', 'height']"
   ]
  },
  {
   "cell_type": "code",
   "execution_count": 3,
   "id": "f95819cc",
   "metadata": {},
   "outputs": [
    {
     "data": {
      "text/html": [
       "<div>\n",
       "<style scoped>\n",
       "    .dataframe tbody tr th:only-of-type {\n",
       "        vertical-align: middle;\n",
       "    }\n",
       "\n",
       "    .dataframe tbody tr th {\n",
       "        vertical-align: top;\n",
       "    }\n",
       "\n",
       "    .dataframe thead th {\n",
       "        text-align: right;\n",
       "    }\n",
       "</style>\n",
       "<table border=\"1\" class=\"dataframe\">\n",
       "  <thead>\n",
       "    <tr style=\"text-align: right;\">\n",
       "      <th></th>\n",
       "      <th>file_name</th>\n",
       "      <th>top_left_x</th>\n",
       "      <th>top_left_y</th>\n",
       "      <th>width</th>\n",
       "      <th>height</th>\n",
       "    </tr>\n",
       "  </thead>\n",
       "  <tbody>\n",
       "    <tr>\n",
       "      <th>0</th>\n",
       "      <td>image1.txt</td>\n",
       "      <td>0.4216</td>\n",
       "      <td>0.4996</td>\n",
       "      <td>0.0091</td>\n",
       "      <td>0.0148</td>\n",
       "    </tr>\n",
       "    <tr>\n",
       "      <th>1</th>\n",
       "      <td>image2.txt</td>\n",
       "      <td>0.4233</td>\n",
       "      <td>0.4812</td>\n",
       "      <td>0.0083</td>\n",
       "      <td>0.0158</td>\n",
       "    </tr>\n",
       "    <tr>\n",
       "      <th>2</th>\n",
       "      <td>image3.txt</td>\n",
       "      <td>0.4249</td>\n",
       "      <td>0.4632</td>\n",
       "      <td>0.0088</td>\n",
       "      <td>0.0148</td>\n",
       "    </tr>\n",
       "    <tr>\n",
       "      <th>3</th>\n",
       "      <td>image4.txt</td>\n",
       "      <td>0.4259</td>\n",
       "      <td>0.4551</td>\n",
       "      <td>0.0096</td>\n",
       "      <td>0.0149</td>\n",
       "    </tr>\n",
       "    <tr>\n",
       "      <th>4</th>\n",
       "      <td>image5.txt</td>\n",
       "      <td>0.4277</td>\n",
       "      <td>0.4402</td>\n",
       "      <td>0.0094</td>\n",
       "      <td>0.0148</td>\n",
       "    </tr>\n",
       "  </tbody>\n",
       "</table>\n",
       "</div>"
      ],
      "text/plain": [
       "    file_name  top_left_x  top_left_y   width  height\n",
       "0  image1.txt      0.4216      0.4996  0.0091  0.0148\n",
       "1  image2.txt      0.4233      0.4812  0.0083  0.0158\n",
       "2  image3.txt      0.4249      0.4632  0.0088  0.0148\n",
       "3  image4.txt      0.4259      0.4551  0.0096  0.0149\n",
       "4  image5.txt      0.4277      0.4402  0.0094  0.0148"
      ]
     },
     "execution_count": 3,
     "metadata": {},
     "output_type": "execute_result"
    }
   ],
   "source": [
    "df.head()"
   ]
  },
  {
   "cell_type": "code",
   "execution_count": 4,
   "id": "478c5131",
   "metadata": {},
   "outputs": [],
   "source": [
    "def id_extractor(image_name):\n",
    "    return int(re.findall('\\d+', image_name)[0])"
   ]
  },
  {
   "cell_type": "code",
   "execution_count": 5,
   "id": "be5a2553",
   "metadata": {},
   "outputs": [
    {
     "name": "stdout",
     "output_type": "stream",
     "text": [
      "(5200, 7)\n"
     ]
    }
   ],
   "source": [
    "df['image_id'] = df['file_name'].apply(id_extractor)\n",
    "df['label'] = 0\n",
    "print(df.shape)"
   ]
  },
  {
   "cell_type": "code",
   "execution_count": 6,
   "id": "a0450fd0",
   "metadata": {},
   "outputs": [
    {
     "data": {
      "text/html": [
       "<div>\n",
       "<style scoped>\n",
       "    .dataframe tbody tr th:only-of-type {\n",
       "        vertical-align: middle;\n",
       "    }\n",
       "\n",
       "    .dataframe tbody tr th {\n",
       "        vertical-align: top;\n",
       "    }\n",
       "\n",
       "    .dataframe thead th {\n",
       "        text-align: right;\n",
       "    }\n",
       "</style>\n",
       "<table border=\"1\" class=\"dataframe\">\n",
       "  <thead>\n",
       "    <tr style=\"text-align: right;\">\n",
       "      <th></th>\n",
       "      <th>file_name</th>\n",
       "      <th>top_left_x</th>\n",
       "      <th>top_left_y</th>\n",
       "      <th>width</th>\n",
       "      <th>height</th>\n",
       "      <th>image_id</th>\n",
       "      <th>label</th>\n",
       "    </tr>\n",
       "  </thead>\n",
       "  <tbody>\n",
       "    <tr>\n",
       "      <th>0</th>\n",
       "      <td>image1.txt</td>\n",
       "      <td>0.4216</td>\n",
       "      <td>0.4996</td>\n",
       "      <td>0.0091</td>\n",
       "      <td>0.0148</td>\n",
       "      <td>1</td>\n",
       "      <td>0</td>\n",
       "    </tr>\n",
       "    <tr>\n",
       "      <th>1</th>\n",
       "      <td>image2.txt</td>\n",
       "      <td>0.4233</td>\n",
       "      <td>0.4812</td>\n",
       "      <td>0.0083</td>\n",
       "      <td>0.0158</td>\n",
       "      <td>2</td>\n",
       "      <td>0</td>\n",
       "    </tr>\n",
       "    <tr>\n",
       "      <th>2</th>\n",
       "      <td>image3.txt</td>\n",
       "      <td>0.4249</td>\n",
       "      <td>0.4632</td>\n",
       "      <td>0.0088</td>\n",
       "      <td>0.0148</td>\n",
       "      <td>3</td>\n",
       "      <td>0</td>\n",
       "    </tr>\n",
       "    <tr>\n",
       "      <th>3</th>\n",
       "      <td>image4.txt</td>\n",
       "      <td>0.4259</td>\n",
       "      <td>0.4551</td>\n",
       "      <td>0.0096</td>\n",
       "      <td>0.0149</td>\n",
       "      <td>4</td>\n",
       "      <td>0</td>\n",
       "    </tr>\n",
       "    <tr>\n",
       "      <th>4</th>\n",
       "      <td>image5.txt</td>\n",
       "      <td>0.4277</td>\n",
       "      <td>0.4402</td>\n",
       "      <td>0.0094</td>\n",
       "      <td>0.0148</td>\n",
       "      <td>5</td>\n",
       "      <td>0</td>\n",
       "    </tr>\n",
       "  </tbody>\n",
       "</table>\n",
       "</div>"
      ],
      "text/plain": [
       "    file_name  top_left_x  top_left_y   width  height  image_id  label\n",
       "0  image1.txt      0.4216      0.4996  0.0091  0.0148         1      0\n",
       "1  image2.txt      0.4233      0.4812  0.0083  0.0158         2      0\n",
       "2  image3.txt      0.4249      0.4632  0.0088  0.0148         3      0\n",
       "3  image4.txt      0.4259      0.4551  0.0096  0.0149         4      0\n",
       "4  image5.txt      0.4277      0.4402  0.0094  0.0148         5      0"
      ]
     },
     "execution_count": 6,
     "metadata": {},
     "output_type": "execute_result"
    }
   ],
   "source": [
    "df.head()"
   ]
  },
  {
   "cell_type": "code",
   "execution_count": 7,
   "id": "c83edd25",
   "metadata": {},
   "outputs": [],
   "source": [
    "ground_truth_bounce_frames = [36, 85, 126, 178, 415, 466, 504, 553, 592, 668, 947, 1000, 1054, 1135, 1312, 1557, 1600,\n",
    "                              1651, 1721, 1973, 2016, 2052, 2095, 2140, 2180, 2221, 2269, 2315, 2354, 2399, 2442, 2493,\n",
    "                              2535, 2574, 2615, 2658, 2700, 2738, 2774, 2825, 2862, 3080, 3115, 3164, 3202,\n",
    "                              3249, 3311, 3373, 3416, 3697, 3742, 3787, 3828, 3873, 3907, 3954, 3986, 4227, 4277, 4318,\n",
    "                              4361, 4402, 4446, 4499, 4531, 4580, 4610, 4673, 4732, 4767, 4801, 4846, 4890, 4931, 4964,\n",
    "                              5024, 5241, 5283, 5325, 5366, 5406, 5442, 5493, 5532, 5568, 5610, 5646, 5735, 5788, 5852,\n",
    "                              6201, 6248, 6286, 6350, 6413, 6671, 6770, 6807, 6867, 7066, 7113]\n",
    "\n",
    "def labeller(col_value):\n",
    "    if col_value in ground_truth_bounce_frames:\n",
    "        return 1\n",
    "    else:\n",
    "        return 0\n",
    "\n",
    "\n",
    "df['label'] = df['image_id'].apply(labeller)\n",
    "df = df.reset_index(drop=True)\n",
    "\n",
    "df['centroid_x'] = df['top_left_x'] + df['width'] / 2\n",
    "df['centroid_y'] = df['top_left_y'] + df['height'] / 2\n",
    "df = df.drop(columns=['file_name', 'top_left_x', 'top_left_y', 'width', 'height'])"
   ]
  },
  {
   "cell_type": "code",
   "execution_count": 8,
   "id": "3ecae71e",
   "metadata": {
    "scrolled": true
   },
   "outputs": [],
   "source": [
    "def windowing(window_size:int)->pd.DataFrame:\n",
    "    X_train = []\n",
    "    y_train = []\n",
    "    window = 25\n",
    "    \"\"\"\n",
    "    valid means window is continous. invalid window is [image1,2,3,4,5,75,76,77,78,79] \n",
    "    window 10 --> 3247 sliding valid windows\n",
    "    window 20 --> 2222 sliding valid windows\n",
    "    window 30 --> 1589 sliding valid windows\n",
    "    window 40 --> 1124 sliding valid windows\n",
    "    window 50 --> 816 sliding valid windows\n",
    "    window 60 --> 615 sliding valid windows\n",
    "    \"\"\"\n",
    "\n",
    "    for start in range(len(df) - window):\n",
    "        window_end = df['image_id'][start + window - 1]\n",
    "        window_end_max = df['image_id'][start] + window - 1\n",
    "        if window_end <= window_end_max:\n",
    "            X_train.append(df[['centroid_x', 'centroid_y']][start:start + window])\n",
    "            y_train.append(np.max(df['label'][start:start + window], axis=0))\n",
    "\n",
    "    X_train = np.array(X_train)\n",
    "    y_train = np.array(y_train).reshape(len(y_train), 1)\n",
    "    bounce_no = len([0 for i in y_train if i == 0])\n",
    "    bounce_yes = len([0 for i in y_train if i == 1])\n",
    "    print('If window = {}, {} % windows have bounce'.format(window, np.round(bounce_yes*100/len(y_train),3)))\n",
    "    return X_train,y_train"
   ]
  },
  {
   "cell_type": "code",
   "execution_count": 9,
   "id": "e1fad757",
   "metadata": {},
   "outputs": [
    {
     "name": "stdout",
     "output_type": "stream",
     "text": [
      "If window = 25, 47.741 % windows have bounce\n"
     ]
    }
   ],
   "source": [
    "X_train,y_train = windowing(20)"
   ]
  },
  {
   "cell_type": "code",
   "execution_count": 10,
   "id": "c71f5b29",
   "metadata": {},
   "outputs": [
    {
     "name": "stderr",
     "output_type": "stream",
     "text": [
      "2022-04-22 02:15:21.548730: I tensorflow/core/platform/cpu_feature_guard.cc:151] This TensorFlow binary is optimized with oneAPI Deep Neural Network Library (oneDNN) to use the following CPU instructions in performance-critical operations:  AVX2 FMA\n",
      "To enable them in other operations, rebuild TensorFlow with the appropriate compiler flags.\n"
     ]
    }
   ],
   "source": [
    "####################################################################\n",
    "#                          Modeling                                #\n",
    "####################################################################\n",
    "\n",
    "model = Sequential()\n",
    "model.add(SimpleRNN(32, activation='relu', input_shape=(X_train.shape[1], \n",
    "                                                                 X_train.shape[2]), return_sequences=True))\n",
    "model.add(SimpleRNN(32, return_sequences=False))\n",
    "model.add(Dropout(0.2))\n",
    "model.add(Dense(1, activation= 'sigmoid'))\n",
    "\n",
    "model.compile(optimizer='adam', loss=tf.keras.losses.BinaryCrossentropy(), \n",
    "              metrics = [tf.keras.metrics.AUC(), tf.keras.metrics.Precision(), tf.keras.metrics.Recall()])\n",
    "\n",
    "#model.summary()\n"
   ]
  },
  {
   "cell_type": "code",
   "execution_count": 11,
   "id": "88dceb54",
   "metadata": {},
   "outputs": [
    {
     "name": "stdout",
     "output_type": "stream",
     "text": [
      "Epoch 1/100\n",
      "42/42 [==============================] - 3s 24ms/step - loss: 0.6883 - auc: 0.5678 - precision: 0.5714 - recall: 0.6571 - val_loss: 0.7855 - val_auc: 0.4004 - val_precision: 0.3185 - val_recall: 0.7222\n",
      "Epoch 2/100\n",
      "42/42 [==============================] - 0s 11ms/step - loss: 0.6270 - auc: 0.7107 - precision: 0.6801 - recall: 0.6771 - val_loss: 0.7739 - val_auc: 0.5771 - val_precision: 0.3825 - val_recall: 0.9040\n",
      "Epoch 3/100\n",
      "42/42 [==============================] - 0s 11ms/step - loss: 0.5780 - auc: 0.7702 - precision: 0.6695 - recall: 0.7843 - val_loss: 0.6140 - val_auc: 0.6696 - val_precision: 0.4718 - val_recall: 0.4646\n",
      "Epoch 4/100\n",
      "42/42 [==============================] - 0s 11ms/step - loss: 0.5542 - auc: 0.7917 - precision: 0.7166 - recall: 0.7443 - val_loss: 0.7724 - val_auc: 0.6486 - val_precision: 0.4029 - val_recall: 0.8283\n",
      "Epoch 5/100\n",
      "42/42 [==============================] - 0s 11ms/step - loss: 0.5029 - auc: 0.8338 - precision: 0.7392 - recall: 0.7857 - val_loss: 0.6445 - val_auc: 0.7179 - val_precision: 0.4545 - val_recall: 0.7071\n",
      "Epoch 6/100\n",
      "42/42 [==============================] - 0s 11ms/step - loss: 0.5056 - auc: 0.8322 - precision: 0.7594 - recall: 0.7800 - val_loss: 0.7138 - val_auc: 0.6844 - val_precision: 0.4478 - val_recall: 0.8232\n",
      "Epoch 7/100\n",
      "42/42 [==============================] - 0s 11ms/step - loss: 0.4535 - auc: 0.8689 - precision: 0.7824 - recall: 0.8014 - val_loss: 0.6521 - val_auc: 0.7884 - val_precision: 0.4615 - val_recall: 0.8788\n",
      "Epoch 8/100\n",
      "42/42 [==============================] - 0s 11ms/step - loss: 0.4667 - auc: 0.8598 - precision: 0.7653 - recall: 0.8057 - val_loss: 0.6107 - val_auc: 0.7292 - val_precision: 0.4854 - val_recall: 0.6717\n",
      "Epoch 9/100\n",
      "42/42 [==============================] - 0s 11ms/step - loss: 0.4436 - auc: 0.8751 - precision: 0.8107 - recall: 0.8014 - val_loss: 0.5946 - val_auc: 0.7395 - val_precision: 0.5019 - val_recall: 0.6616\n",
      "Epoch 10/100\n",
      "42/42 [==============================] - 0s 11ms/step - loss: 0.4409 - auc: 0.8745 - precision: 0.8000 - recall: 0.7943 - val_loss: 0.5972 - val_auc: 0.7107 - val_precision: 0.5244 - val_recall: 0.5960\n",
      "Epoch 11/100\n",
      "42/42 [==============================] - 0s 11ms/step - loss: 0.4233 - auc: 0.8859 - precision: 0.8120 - recall: 0.7957 - val_loss: 0.6291 - val_auc: 0.7265 - val_precision: 0.4799 - val_recall: 0.6616\n",
      "Epoch 12/100\n",
      "42/42 [==============================] - 0s 11ms/step - loss: 0.4063 - auc: 0.8961 - precision: 0.8073 - recall: 0.8200 - val_loss: 0.5699 - val_auc: 0.7820 - val_precision: 0.5455 - val_recall: 0.7273\n",
      "Epoch 13/100\n",
      "42/42 [==============================] - 1s 11ms/step - loss: 0.4209 - auc: 0.8871 - precision: 0.8162 - recall: 0.8057 - val_loss: 0.8661 - val_auc: 0.6018 - val_precision: 0.4000 - val_recall: 0.6263\n",
      "Epoch 14/100\n",
      "42/42 [==============================] - 1s 13ms/step - loss: 0.4377 - auc: 0.8788 - precision: 0.8241 - recall: 0.8100 - val_loss: 0.5917 - val_auc: 0.8124 - val_precision: 0.5399 - val_recall: 0.8535\n",
      "Epoch 15/100\n",
      "42/42 [==============================] - 0s 10ms/step - loss: 0.4021 - auc: 0.8977 - precision: 0.8195 - recall: 0.8300 - val_loss: 0.5816 - val_auc: 0.7639 - val_precision: 0.5400 - val_recall: 0.6818\n",
      "Epoch 16/100\n",
      "42/42 [==============================] - 1s 13ms/step - loss: 0.4108 - auc: 0.8915 - precision: 0.8341 - recall: 0.8114 - val_loss: 0.6165 - val_auc: 0.7449 - val_precision: 0.5192 - val_recall: 0.7525\n",
      "Epoch 17/100\n",
      "42/42 [==============================] - 0s 11ms/step - loss: 0.3895 - auc: 0.9036 - precision: 0.8223 - recall: 0.8200 - val_loss: 0.6302 - val_auc: 0.7574 - val_precision: 0.5155 - val_recall: 0.7576\n",
      "Epoch 18/100\n",
      "42/42 [==============================] - 0s 11ms/step - loss: 0.3681 - auc: 0.9156 - precision: 0.8534 - recall: 0.8400 - val_loss: 0.6602 - val_auc: 0.8078 - val_precision: 0.5086 - val_recall: 0.8939\n",
      "Epoch 19/100\n",
      "42/42 [==============================] - 1s 13ms/step - loss: 0.4014 - auc: 0.8980 - precision: 0.8196 - recall: 0.8371 - val_loss: 0.6097 - val_auc: 0.7597 - val_precision: 0.5259 - val_recall: 0.7172\n",
      "Epoch 20/100\n",
      "42/42 [==============================] - 1s 12ms/step - loss: 0.3909 - auc: 0.9023 - precision: 0.8278 - recall: 0.8171 - val_loss: 0.7463 - val_auc: 0.6414 - val_precision: 0.4078 - val_recall: 0.5253\n",
      "Epoch 21/100\n",
      "42/42 [==============================] - 0s 11ms/step - loss: 0.3935 - auc: 0.9005 - precision: 0.8289 - recall: 0.8100 - val_loss: 0.6753 - val_auc: 0.7590 - val_precision: 0.5015 - val_recall: 0.8232\n",
      "Epoch 22/100\n",
      "42/42 [==============================] - 1s 13ms/step - loss: 0.3612 - auc: 0.9180 - precision: 0.8470 - recall: 0.8386 - val_loss: 0.5261 - val_auc: 0.7945 - val_precision: 0.6100 - val_recall: 0.6162\n",
      "Epoch 23/100\n",
      "42/42 [==============================] - 0s 11ms/step - loss: 0.3621 - auc: 0.9182 - precision: 0.8690 - recall: 0.8243 - val_loss: 0.6097 - val_auc: 0.7895 - val_precision: 0.5324 - val_recall: 0.7879\n",
      "Epoch 24/100\n",
      "42/42 [==============================] - 0s 11ms/step - loss: 0.3427 - auc: 0.9269 - precision: 0.8641 - recall: 0.8357 - val_loss: 0.7864 - val_auc: 0.6641 - val_precision: 0.4286 - val_recall: 0.6061\n",
      "Epoch 25/100\n",
      "42/42 [==============================] - 0s 12ms/step - loss: 0.3633 - auc: 0.9162 - precision: 0.8433 - recall: 0.8300 - val_loss: 0.5550 - val_auc: 0.7907 - val_precision: 0.5809 - val_recall: 0.7071\n",
      "Epoch 26/100\n",
      "42/42 [==============================] - 1s 13ms/step - loss: 0.3433 - auc: 0.9276 - precision: 0.8709 - recall: 0.8286 - val_loss: 0.5476 - val_auc: 0.8147 - val_precision: 0.6083 - val_recall: 0.7374\n",
      "Epoch 27/100\n",
      "42/42 [==============================] - 0s 10ms/step - loss: 0.3366 - auc: 0.9293 - precision: 0.8637 - recall: 0.8329 - val_loss: 0.5772 - val_auc: 0.8342 - val_precision: 0.5926 - val_recall: 0.8081\n",
      "Epoch 28/100\n",
      "42/42 [==============================] - 0s 10ms/step - loss: 0.3263 - auc: 0.9335 - precision: 0.8561 - recall: 0.8500 - val_loss: 0.7295 - val_auc: 0.7174 - val_precision: 0.5000 - val_recall: 0.6010\n",
      "Epoch 29/100\n",
      "42/42 [==============================] - 0s 10ms/step - loss: 0.3529 - auc: 0.9220 - precision: 0.8565 - recall: 0.8443 - val_loss: 0.5182 - val_auc: 0.8301 - val_precision: 0.6034 - val_recall: 0.7222\n",
      "Epoch 30/100\n",
      "42/42 [==============================] - 0s 9ms/step - loss: 0.3196 - auc: 0.9373 - precision: 0.8772 - recall: 0.8671 - val_loss: 0.5579 - val_auc: 0.8048 - val_precision: 0.6017 - val_recall: 0.7020\n",
      "Epoch 31/100\n",
      "42/42 [==============================] - 0s 11ms/step - loss: 0.3122 - auc: 0.9392 - precision: 0.8745 - recall: 0.8557 - val_loss: 0.6097 - val_auc: 0.8284 - val_precision: 0.5845 - val_recall: 0.8384\n",
      "Epoch 32/100\n",
      "42/42 [==============================] - 0s 11ms/step - loss: 0.2923 - auc: 0.9474 - precision: 0.8834 - recall: 0.8657 - val_loss: 0.6658 - val_auc: 0.7894 - val_precision: 0.5618 - val_recall: 0.8030\n",
      "Epoch 33/100\n",
      "42/42 [==============================] - 0s 11ms/step - loss: 0.2864 - auc: 0.9496 - precision: 0.8900 - recall: 0.8671 - val_loss: 0.6427 - val_auc: 0.7524 - val_precision: 0.5476 - val_recall: 0.5808\n",
      "Epoch 34/100\n",
      "42/42 [==============================] - 0s 11ms/step - loss: 0.3060 - auc: 0.9411 - precision: 0.8810 - recall: 0.8671 - val_loss: 0.6197 - val_auc: 0.8046 - val_precision: 0.5867 - val_recall: 0.8030\n",
      "Epoch 35/100\n",
      "42/42 [==============================] - 0s 10ms/step - loss: 0.2812 - auc: 0.9507 - precision: 0.9057 - recall: 0.8643 - val_loss: 0.6751 - val_auc: 0.7728 - val_precision: 0.5441 - val_recall: 0.7172\n",
      "Epoch 36/100\n",
      "42/42 [==============================] - 0s 10ms/step - loss: 0.3586 - auc: 0.9225 - precision: 0.8416 - recall: 0.8500 - val_loss: 0.6368 - val_auc: 0.7706 - val_precision: 0.5808 - val_recall: 0.6717\n",
      "Epoch 37/100\n",
      "42/42 [==============================] - 0s 10ms/step - loss: 0.3045 - auc: 0.9422 - precision: 0.8947 - recall: 0.8371 - val_loss: 0.7068 - val_auc: 0.7927 - val_precision: 0.5548 - val_recall: 0.7929\n",
      "Epoch 38/100\n",
      "42/42 [==============================] - 0s 10ms/step - loss: 0.3315 - auc: 0.9304 - precision: 0.8626 - recall: 0.8429 - val_loss: 0.5869 - val_auc: 0.8229 - val_precision: 0.5678 - val_recall: 0.7828\n",
      "Epoch 39/100\n"
     ]
    },
    {
     "name": "stdout",
     "output_type": "stream",
     "text": [
      "42/42 [==============================] - 0s 10ms/step - loss: 0.2711 - auc: 0.9549 - precision: 0.9003 - recall: 0.8771 - val_loss: 0.6690 - val_auc: 0.7786 - val_precision: 0.5513 - val_recall: 0.7323\n",
      "Epoch 40/100\n",
      "42/42 [==============================] - 0s 10ms/step - loss: 0.2791 - auc: 0.9513 - precision: 0.8921 - recall: 0.8743 - val_loss: 0.5236 - val_auc: 0.8423 - val_precision: 0.6624 - val_recall: 0.7929\n",
      "Epoch 41/100\n",
      "42/42 [==============================] - 0s 10ms/step - loss: 0.2917 - auc: 0.9473 - precision: 0.8881 - recall: 0.8729 - val_loss: 0.5580 - val_auc: 0.8366 - val_precision: 0.6240 - val_recall: 0.8131\n",
      "Epoch 42/100\n",
      "42/42 [==============================] - 0s 10ms/step - loss: 0.2548 - auc: 0.9601 - precision: 0.9131 - recall: 0.8857 - val_loss: 0.6564 - val_auc: 0.8347 - val_precision: 0.5867 - val_recall: 0.8889\n",
      "Epoch 43/100\n",
      "42/42 [==============================] - 0s 10ms/step - loss: 0.2595 - auc: 0.9587 - precision: 0.9121 - recall: 0.8743 - val_loss: 0.7396 - val_auc: 0.7604 - val_precision: 0.5388 - val_recall: 0.7020\n",
      "Epoch 44/100\n",
      "42/42 [==============================] - 0s 10ms/step - loss: 0.2396 - auc: 0.9649 - precision: 0.9123 - recall: 0.8914 - val_loss: 0.7353 - val_auc: 0.7613 - val_precision: 0.5479 - val_recall: 0.7222\n",
      "Epoch 45/100\n",
      "42/42 [==============================] - 0s 10ms/step - loss: 0.2573 - auc: 0.9593 - precision: 0.8977 - recall: 0.8771 - val_loss: 0.6162 - val_auc: 0.8237 - val_precision: 0.6115 - val_recall: 0.8030\n",
      "Epoch 46/100\n",
      "42/42 [==============================] - 0s 10ms/step - loss: 0.2399 - auc: 0.9645 - precision: 0.9173 - recall: 0.8871 - val_loss: 0.6619 - val_auc: 0.7765 - val_precision: 0.5819 - val_recall: 0.6818\n",
      "Epoch 47/100\n",
      "42/42 [==============================] - 0s 10ms/step - loss: 0.2383 - auc: 0.9658 - precision: 0.9186 - recall: 0.8871 - val_loss: 0.6597 - val_auc: 0.8108 - val_precision: 0.5976 - val_recall: 0.7424\n",
      "Epoch 48/100\n",
      "42/42 [==============================] - 0s 10ms/step - loss: 0.2499 - auc: 0.9615 - precision: 0.9160 - recall: 0.8729 - val_loss: 0.5819 - val_auc: 0.8110 - val_precision: 0.6173 - val_recall: 0.6111\n",
      "Epoch 49/100\n",
      "42/42 [==============================] - 0s 10ms/step - loss: 0.2322 - auc: 0.9670 - precision: 0.9217 - recall: 0.8914 - val_loss: 0.6922 - val_auc: 0.7763 - val_precision: 0.5727 - val_recall: 0.6364\n",
      "Epoch 50/100\n",
      "42/42 [==============================] - 0s 10ms/step - loss: 0.2370 - auc: 0.9652 - precision: 0.9063 - recall: 0.8986 - val_loss: 0.7567 - val_auc: 0.8048 - val_precision: 0.5855 - val_recall: 0.8131\n",
      "Epoch 51/100\n",
      "42/42 [==============================] - 0s 10ms/step - loss: 0.2320 - auc: 0.9673 - precision: 0.9168 - recall: 0.9129 - val_loss: 0.5915 - val_auc: 0.8180 - val_precision: 0.6271 - val_recall: 0.7475\n",
      "Epoch 52/100\n",
      "42/42 [==============================] - 0s 10ms/step - loss: 0.2369 - auc: 0.9656 - precision: 0.9099 - recall: 0.8800 - val_loss: 0.6608 - val_auc: 0.8006 - val_precision: 0.6272 - val_recall: 0.7222\n",
      "Epoch 53/100\n",
      "42/42 [==============================] - 0s 10ms/step - loss: 0.2384 - auc: 0.9642 - precision: 0.9264 - recall: 0.8814 - val_loss: 0.6746 - val_auc: 0.8141 - val_precision: 0.5851 - val_recall: 0.8333\n",
      "Epoch 54/100\n",
      "42/42 [==============================] - 0s 10ms/step - loss: 0.2190 - auc: 0.9706 - precision: 0.9220 - recall: 0.9114 - val_loss: 0.6494 - val_auc: 0.8100 - val_precision: 0.6276 - val_recall: 0.7576\n",
      "Epoch 55/100\n",
      "42/42 [==============================] - 0s 10ms/step - loss: 0.1915 - auc: 0.9784 - precision: 0.9318 - recall: 0.9171 - val_loss: 0.6512 - val_auc: 0.8147 - val_precision: 0.5925 - val_recall: 0.7929\n",
      "Epoch 56/100\n",
      "42/42 [==============================] - 0s 10ms/step - loss: 0.2140 - auc: 0.9713 - precision: 0.9197 - recall: 0.9157 - val_loss: 0.7883 - val_auc: 0.7495 - val_precision: 0.5508 - val_recall: 0.5202\n",
      "Epoch 57/100\n",
      "42/42 [==============================] - 0s 10ms/step - loss: 0.2758 - auc: 0.9523 - precision: 0.8852 - recall: 0.8700 - val_loss: 0.7190 - val_auc: 0.7775 - val_precision: 0.5708 - val_recall: 0.6515\n",
      "Epoch 58/100\n",
      "42/42 [==============================] - 0s 10ms/step - loss: 0.2099 - auc: 0.9730 - precision: 0.9253 - recall: 0.9029 - val_loss: 0.7962 - val_auc: 0.7502 - val_precision: 0.5631 - val_recall: 0.6313\n",
      "Epoch 59/100\n",
      "42/42 [==============================] - 0s 10ms/step - loss: 0.2137 - auc: 0.9717 - precision: 0.9186 - recall: 0.9029 - val_loss: 0.7801 - val_auc: 0.7533 - val_precision: 0.5706 - val_recall: 0.5101\n",
      "Epoch 60/100\n",
      "42/42 [==============================] - 0s 10ms/step - loss: 0.2041 - auc: 0.9743 - precision: 0.9276 - recall: 0.8971 - val_loss: 0.8430 - val_auc: 0.7173 - val_precision: 0.5029 - val_recall: 0.4444\n",
      "Epoch 61/100\n",
      "42/42 [==============================] - 0s 10ms/step - loss: 0.2128 - auc: 0.9725 - precision: 0.9250 - recall: 0.9157 - val_loss: 0.8635 - val_auc: 0.7050 - val_precision: 0.5183 - val_recall: 0.5000\n",
      "Epoch 62/100\n",
      "42/42 [==============================] - 0s 10ms/step - loss: 0.2246 - auc: 0.9688 - precision: 0.9141 - recall: 0.8971 - val_loss: 0.8012 - val_auc: 0.7373 - val_precision: 0.5403 - val_recall: 0.5758\n",
      "Epoch 63/100\n",
      "42/42 [==============================] - 0s 10ms/step - loss: 0.1968 - auc: 0.9762 - precision: 0.9313 - recall: 0.9100 - val_loss: 0.7772 - val_auc: 0.7955 - val_precision: 0.5821 - val_recall: 0.8232\n",
      "Epoch 64/100\n",
      "42/42 [==============================] - 0s 10ms/step - loss: 0.2035 - auc: 0.9741 - precision: 0.9244 - recall: 0.9086 - val_loss: 0.7760 - val_auc: 0.7751 - val_precision: 0.5714 - val_recall: 0.6869\n",
      "Epoch 65/100\n",
      "42/42 [==============================] - 0s 10ms/step - loss: 0.2256 - auc: 0.9685 - precision: 0.9239 - recall: 0.9014 - val_loss: 0.8030 - val_auc: 0.7446 - val_precision: 0.5357 - val_recall: 0.5303\n",
      "Epoch 66/100\n",
      "42/42 [==============================] - 0s 10ms/step - loss: 0.1968 - auc: 0.9763 - precision: 0.9294 - recall: 0.9214 - val_loss: 0.9060 - val_auc: 0.7405 - val_precision: 0.5156 - val_recall: 0.6667\n",
      "Epoch 67/100\n",
      "42/42 [==============================] - 0s 10ms/step - loss: 0.1665 - auc: 0.9837 - precision: 0.9487 - recall: 0.9243 - val_loss: 0.6730 - val_auc: 0.7878 - val_precision: 0.6126 - val_recall: 0.5909\n",
      "Epoch 68/100\n",
      "42/42 [==============================] - 0s 10ms/step - loss: 0.1810 - auc: 0.9803 - precision: 0.9439 - recall: 0.9129 - val_loss: 0.8873 - val_auc: 0.7480 - val_precision: 0.5435 - val_recall: 0.6313\n",
      "Epoch 69/100\n",
      "42/42 [==============================] - 0s 10ms/step - loss: 0.1811 - auc: 0.9795 - precision: 0.9309 - recall: 0.9243 - val_loss: 0.8520 - val_auc: 0.7547 - val_precision: 0.5487 - val_recall: 0.6263\n",
      "Epoch 70/100\n",
      "42/42 [==============================] - 0s 10ms/step - loss: 0.1774 - auc: 0.9807 - precision: 0.9429 - recall: 0.9200 - val_loss: 0.8554 - val_auc: 0.7617 - val_precision: 0.5475 - val_recall: 0.6111\n",
      "Epoch 71/100\n",
      "42/42 [==============================] - 0s 10ms/step - loss: 0.1726 - auc: 0.9814 - precision: 0.9475 - recall: 0.9286 - val_loss: 0.8111 - val_auc: 0.7767 - val_precision: 0.5569 - val_recall: 0.6919\n",
      "Epoch 72/100\n",
      "42/42 [==============================] - 0s 10ms/step - loss: 0.2559 - auc: 0.9592 - precision: 0.9080 - recall: 0.8886 - val_loss: 0.8450 - val_auc: 0.7503 - val_precision: 0.5273 - val_recall: 0.6818\n",
      "Epoch 73/100\n",
      "42/42 [==============================] - 0s 10ms/step - loss: 0.1921 - auc: 0.9774 - precision: 0.9266 - recall: 0.9200 - val_loss: 0.7995 - val_auc: 0.7658 - val_precision: 0.5676 - val_recall: 0.6364\n",
      "Epoch 74/100\n",
      "42/42 [==============================] - 0s 10ms/step - loss: 0.1687 - auc: 0.9832 - precision: 0.9278 - recall: 0.9186 - val_loss: 0.8661 - val_auc: 0.7600 - val_precision: 0.5526 - val_recall: 0.6364\n",
      "Epoch 75/100\n",
      "42/42 [==============================] - 0s 10ms/step - loss: 0.1906 - auc: 0.9779 - precision: 0.9382 - recall: 0.9114 - val_loss: 0.7657 - val_auc: 0.7758 - val_precision: 0.5585 - val_recall: 0.5303\n",
      "Epoch 76/100\n",
      "42/42 [==============================] - 0s 10ms/step - loss: 0.1748 - auc: 0.9809 - precision: 0.9339 - recall: 0.9286 - val_loss: 0.7853 - val_auc: 0.7923 - val_precision: 0.5968 - val_recall: 0.7475\n",
      "Epoch 77/100\n"
     ]
    },
    {
     "name": "stdout",
     "output_type": "stream",
     "text": [
      "42/42 [==============================] - 0s 10ms/step - loss: 0.1596 - auc: 0.9843 - precision: 0.9450 - recall: 0.9329 - val_loss: 0.8007 - val_auc: 0.7899 - val_precision: 0.5857 - val_recall: 0.7424\n",
      "Epoch 78/100\n",
      "42/42 [==============================] - 0s 10ms/step - loss: 0.1801 - auc: 0.9798 - precision: 0.9359 - recall: 0.9171 - val_loss: 0.8485 - val_auc: 0.7711 - val_precision: 0.5708 - val_recall: 0.6717\n",
      "Epoch 79/100\n",
      "42/42 [==============================] - 0s 10ms/step - loss: 0.2084 - auc: 0.9727 - precision: 0.9271 - recall: 0.9086 - val_loss: 0.8082 - val_auc: 0.7989 - val_precision: 0.5699 - val_recall: 0.8030\n",
      "Epoch 80/100\n",
      "42/42 [==============================] - 0s 10ms/step - loss: 0.1726 - auc: 0.9815 - precision: 0.9393 - recall: 0.9286 - val_loss: 0.8159 - val_auc: 0.7818 - val_precision: 0.5650 - val_recall: 0.6364\n",
      "Epoch 81/100\n",
      "42/42 [==============================] - 0s 10ms/step - loss: 0.1657 - auc: 0.9833 - precision: 0.9398 - recall: 0.9371 - val_loss: 0.7191 - val_auc: 0.8019 - val_precision: 0.6061 - val_recall: 0.6061\n",
      "Epoch 82/100\n",
      "42/42 [==============================] - 0s 10ms/step - loss: 0.1523 - auc: 0.9861 - precision: 0.9557 - recall: 0.9243 - val_loss: 0.8134 - val_auc: 0.7791 - val_precision: 0.5841 - val_recall: 0.6667\n",
      "Epoch 83/100\n",
      "42/42 [==============================] - 0s 10ms/step - loss: 0.1439 - auc: 0.9874 - precision: 0.9440 - recall: 0.9386 - val_loss: 0.8250 - val_auc: 0.7923 - val_precision: 0.5909 - val_recall: 0.5253\n",
      "Epoch 84/100\n",
      "42/42 [==============================] - 0s 10ms/step - loss: 0.2036 - auc: 0.9747 - precision: 0.9259 - recall: 0.9100 - val_loss: 1.0674 - val_auc: 0.7299 - val_precision: 0.4857 - val_recall: 0.6869\n",
      "Epoch 85/100\n",
      "42/42 [==============================] - 0s 10ms/step - loss: 0.2024 - auc: 0.9746 - precision: 0.9324 - recall: 0.9057 - val_loss: 0.9182 - val_auc: 0.7647 - val_precision: 0.5465 - val_recall: 0.7121\n",
      "Epoch 86/100\n",
      "42/42 [==============================] - 0s 10ms/step - loss: 0.1663 - auc: 0.9830 - precision: 0.9380 - recall: 0.9286 - val_loss: 0.7684 - val_auc: 0.8117 - val_precision: 0.6087 - val_recall: 0.7778\n",
      "Epoch 87/100\n",
      "42/42 [==============================] - 0s 10ms/step - loss: 0.1524 - auc: 0.9859 - precision: 0.9425 - recall: 0.9371 - val_loss: 0.9281 - val_auc: 0.7720 - val_precision: 0.5420 - val_recall: 0.6515\n",
      "Epoch 88/100\n",
      "42/42 [==============================] - 0s 10ms/step - loss: 0.1725 - auc: 0.9818 - precision: 0.9403 - recall: 0.9229 - val_loss: 0.9253 - val_auc: 0.7576 - val_precision: 0.5344 - val_recall: 0.6667\n",
      "Epoch 89/100\n",
      "42/42 [==============================] - 0s 10ms/step - loss: 0.1605 - auc: 0.9840 - precision: 0.9420 - recall: 0.9286 - val_loss: 0.9062 - val_auc: 0.7540 - val_precision: 0.5439 - val_recall: 0.6263\n",
      "Epoch 90/100\n",
      "42/42 [==============================] - 0s 10ms/step - loss: 0.1515 - auc: 0.9859 - precision: 0.9493 - recall: 0.9371 - val_loss: 0.8305 - val_auc: 0.7841 - val_precision: 0.5885 - val_recall: 0.6212\n",
      "Epoch 91/100\n",
      "42/42 [==============================] - 0s 10ms/step - loss: 0.1495 - auc: 0.9866 - precision: 0.9504 - recall: 0.9314 - val_loss: 0.8263 - val_auc: 0.7946 - val_precision: 0.5665 - val_recall: 0.7525\n",
      "Epoch 92/100\n",
      "42/42 [==============================] - 0s 10ms/step - loss: 0.1318 - auc: 0.9895 - precision: 0.9511 - recall: 0.9443 - val_loss: 0.9939 - val_auc: 0.7569 - val_precision: 0.5598 - val_recall: 0.7323\n",
      "Epoch 93/100\n",
      "42/42 [==============================] - 0s 10ms/step - loss: 0.1195 - auc: 0.9917 - precision: 0.9540 - recall: 0.9486 - val_loss: 0.9431 - val_auc: 0.7607 - val_precision: 0.5511 - val_recall: 0.6263\n",
      "Epoch 94/100\n",
      "42/42 [==============================] - 0s 10ms/step - loss: 0.1349 - auc: 0.9884 - precision: 0.9593 - recall: 0.9429 - val_loss: 0.8313 - val_auc: 0.7845 - val_precision: 0.5696 - val_recall: 0.6616\n",
      "Epoch 95/100\n",
      "42/42 [==============================] - 0s 10ms/step - loss: 0.2026 - auc: 0.9749 - precision: 0.9275 - recall: 0.9143 - val_loss: 0.9194 - val_auc: 0.7451 - val_precision: 0.5761 - val_recall: 0.5354\n",
      "Epoch 96/100\n",
      "42/42 [==============================] - 1s 14ms/step - loss: 0.1742 - auc: 0.9810 - precision: 0.9416 - recall: 0.9214 - val_loss: 0.8699 - val_auc: 0.7930 - val_precision: 0.5709 - val_recall: 0.7525\n",
      "Epoch 97/100\n",
      "42/42 [==============================] - 1s 12ms/step - loss: 0.1342 - auc: 0.9897 - precision: 0.9677 - recall: 0.9414 - val_loss: 1.0501 - val_auc: 0.6976 - val_precision: 0.5073 - val_recall: 0.5253\n",
      "Epoch 98/100\n",
      "42/42 [==============================] - 0s 11ms/step - loss: 0.1182 - auc: 0.9919 - precision: 0.9610 - recall: 0.9500 - val_loss: 1.0103 - val_auc: 0.7169 - val_precision: 0.5575 - val_recall: 0.4899\n",
      "Epoch 99/100\n",
      "42/42 [==============================] - 1s 15ms/step - loss: 0.1580 - auc: 0.9842 - precision: 0.9477 - recall: 0.9314 - val_loss: 1.0490 - val_auc: 0.7297 - val_precision: 0.5333 - val_recall: 0.6061\n",
      "Epoch 100/100\n",
      "42/42 [==============================] - 1s 13ms/step - loss: 0.1632 - auc: 0.9829 - precision: 0.9353 - recall: 0.9300 - val_loss: 0.9413 - val_auc: 0.7899 - val_precision: 0.5507 - val_recall: 0.7677\n"
     ]
    },
    {
     "data": {
      "text/plain": [
       "<matplotlib.legend.Legend at 0x7febc33a9820>"
      ]
     },
     "execution_count": 11,
     "metadata": {},
     "output_type": "execute_result"
    },
    {
     "data": {
      "image/png": "[encoded data removed]",
      "text/plain": [
       "<Figure size 432x288 with 1 Axes>"
      ]
     },
     "metadata": {
      "needs_background": "light"
     },
     "output_type": "display_data"
    }
   ],
   "source": [
    "# fit the model\n",
    "from keras.callbacks import EarlyStopping\n",
    "early_stopping = EarlyStopping(monitor='val_auc', patience=3, verbose=1)\n",
    "callbacks_list = [early_stopping]\n",
    "# history = model.fit(X_train, y_train, epochs=500, validation_split= 0.2,verbose=1,\n",
    "#                     batch_size = 16, callbacks=[callbacks_list]);\n",
    "history = model.fit(X_train, y_train, epochs=100, validation_split= 0.3,verbose=1);\n",
    "\n",
    "plt.plot(history.history['auc'], label='Training auc')\n",
    "plt.plot(history.history['val_auc'], label='Validation auc')\n",
    "plt.ylim([0.0, 1.0])\n",
    "plt.legend()\n",
    "\n"
   ]
  },
  {
   "cell_type": "code",
   "execution_count": 12,
   "id": "8b191278",
   "metadata": {},
   "outputs": [
    {
     "data": {
      "text/plain": [
       "<matplotlib.legend.Legend at 0x7febc45d6d90>"
      ]
     },
     "execution_count": 12,
     "metadata": {},
     "output_type": "execute_result"
    },
    {
     "data": {
      "image/png": "[encoded data removed]",
      "text/plain": [
       "<Figure size 432x288 with 1 Axes>"
      ]
     },
     "metadata": {
      "needs_background": "light"
     },
     "output_type": "display_data"
    }
   ],
   "source": [
    "plt.plot(history.history['precision'], label='Training precision')\n",
    "plt.plot(history.history['val_precision'], label='Validation precision')\n",
    "plt.ylim([0.0, 1.0])\n",
    "plt.legend()"
   ]
  },
  {
   "cell_type": "code",
   "execution_count": 13,
   "id": "a510cd9f",
   "metadata": {},
   "outputs": [
    {
     "data": {
      "text/plain": [
       "<matplotlib.legend.Legend at 0x7febc4c208b0>"
      ]
     },
     "execution_count": 13,
     "metadata": {},
     "output_type": "execute_result"
    },
    {
     "data": {
      "image/png": "[encoded data removed]",
      "text/plain": [
       "<Figure size 432x288 with 1 Axes>"
      ]
     },
     "metadata": {
      "needs_background": "light"
     },
     "output_type": "display_data"
    }
   ],
   "source": [
    "plt.plot(history.history['recall'], label='Training recall')\n",
    "plt.plot(history.history['val_recall'], label='Validation recall')\n",
    "plt.ylim([0.0, 1.0])\n",
    "plt.legend()"
   ]
  },
  {
   "cell_type": "code",
   "execution_count": null,
   "id": "5be8d61f",
   "metadata": {},
   "outputs": [],
   "source": []
  }
 ],
 "metadata": {
  "kernelspec": {
   "display_name": "Python 3 (ipykernel)",
   "language": "python",
   "name": "python3"
  },
  "language_info": {
   "codemirror_mode": {
    "name": "ipython",
    "version": 3
   },
   "file_extension": ".py",
   "mimetype": "text/x-python",
   "name": "python",
   "nbconvert_exporter": "python",
   "pygments_lexer": "ipython3",
   "version": "3.9.7"
  },
  "toc": {
   "base_numbering": 1,
   "nav_menu": {},
   "number_sections": true,
   "sideBar": true,
   "skip_h1_title": false,
   "title_cell": "Table of Contents",
   "title_sidebar": "Contents",
   "toc_cell": false,
   "toc_position": {},
   "toc_section_display": true,
   "toc_window_display": false
  },
  "varInspector": {
   "cols": {
    "lenName": 16,
    "lenType": 16,
    "lenVar": 40
   },
   "kernels_config": {
    "python": {
     "delete_cmd_postfix": "",
     "delete_cmd_prefix": "del ",
     "library": "var_list.py",
     "varRefreshCmd": "print(var_dic_list())"
    },
    "r": {
     "delete_cmd_postfix": ") ",
     "delete_cmd_prefix": "rm(",
     "library": "var_list.r",
     "varRefreshCmd": "cat(var_dic_list()) "
    }
   },
   "types_to_exclude": [
    "module",
    "function",
    "builtin_function_or_method",
    "instance",
    "_Feature"
   ],
   "window_display": false
  }
 },
 "nbformat": 4,
 "nbformat_minor": 5
}
